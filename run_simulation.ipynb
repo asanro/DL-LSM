{
 "cells": [
  {
   "cell_type": "code",
   "execution_count": 1,
   "metadata": {
    "ExecuteTime": {
     "end_time": "2023-12-04T08:56:18.076719500Z",
     "start_time": "2023-12-04T08:55:52.895256300Z"
    },
    "collapsed": false,
    "jupyter": {
     "outputs_hidden": false
    }
   },
   "outputs": [
    {
     "name": "stdout",
     "output_type": "stream",
     "text": [
      "Global seed 0\n",
      "Global seed 0\n"
     ]
    }
   ],
   "source": [
    "import matplotlib.pyplot as plt\n",
    "import glob\n",
    "import pandas as pd\n",
    "import os\n",
    "import SimpleITK as sitk\n",
    "\n",
    "# Personal library\n",
    "import prepare_data\n",
    "import simulation "
   ]
  },
  {
   "cell_type": "markdown",
   "metadata": {},
   "source": [
    "### Load Example Image"
   ]
  },
  {
   "cell_type": "code",
   "execution_count": 2,
   "metadata": {
    "ExecuteTime": {
     "end_time": "2023-11-13T11:41:04.207717100Z",
     "start_time": "2023-11-13T11:41:03.973149800Z"
    },
    "collapsed": false,
    "jupyter": {
     "outputs_hidden": false
    }
   },
   "outputs": [
    {
     "name": "stdout",
     "output_type": "stream",
     "text": [
      "(152, 179, 142)\n",
      "(152, 179, 142)\n"
     ]
    }
   ],
   "source": [
    "test_load = sitk.GetArrayFromImage(sitk.ReadImage('images/TRACE-VCI-DOWNSIZED/TRACEVCI_20018_WMHinMNImasked.nii.gz'))\n",
    "roi_load = sitk.GetArrayFromImage(sitk.ReadImage('images/roi_image_0.nii.gz'))\n",
    "print(test_load.shape)\n",
    "print(roi_load.shape)"
   ]
  },
  {
   "cell_type": "code",
   "execution_count": 3,
   "metadata": {
    "ExecuteTime": {
     "end_time": "2023-09-28T09:40:05.019582600Z",
     "start_time": "2023-09-28T09:40:05.003937900Z"
    },
    "collapsed": false,
    "jupyter": {
     "outputs_hidden": false
    }
   },
   "outputs": [
    {
     "data": {
      "image/png": "[encoded data removed]",
      "text/plain": [
       "<Figure size 432x288 with 2 Axes>"
      ]
     },
     "metadata": {
      "needs_background": "light"
     },
     "output_type": "display_data"
    }
   ],
   "source": [
    "# quick visualization check\n",
    "raw_image = test_load[105, :, :]\n",
    "roi_image = roi_load[105, :, :]\n",
    "\n",
    "roi_alpha = 0.5 \n",
    "roi_image_with_alpha = roi_image * roi_alpha\n",
    "plt.imshow(raw_image, cmap='tab20b', vmin=0, vmax=3)\n",
    "plt.imshow(roi_image_with_alpha, cmap='viridis', vmin=0, vmax=1, alpha=0.5)\n",
    "\n",
    "plt.colorbar() \n",
    "plt.show()"
   ]
  },
  {
   "cell_type": "markdown",
   "metadata": {},
   "source": [
    "# Load TRACE-VCI 3D"
   ]
  },
  {
   "cell_type": "code",
   "execution_count": 2,
   "metadata": {
    "ExecuteTime": {
     "end_time": "2023-12-04T08:56:18.177338200Z",
     "start_time": "2023-12-04T08:56:17.988494900Z"
    },
    "collapsed": false,
    "jupyter": {
     "outputs_hidden": false
    }
   },
   "outputs": [],
   "source": [
    "# Define data paths\n",
    "dir_lesion_path = glob.glob('images/TRACE-VCI/TRACEVCI*.gz') # 3D Image directory\n",
    "dir_downsized_path = 'images/TRACE-VCI-DOWNSIZED/' # 3D cropped image directory\n",
    "pt_ids = len(dir_lesion_path)\n",
    "\n",
    "mni_cor = [2, 154, 21, 200, 19, 161] # Voxels containing only brain tissue in MNI-space\n",
    "\n",
    "# Crop images -> Uncomment in first run\n",
    "# prepare_data.downsize_data(dir_lesion_path, dir_downsized_path, mni_coordinates=mni_cor)"
   ]
  },
  {
   "cell_type": "code",
   "execution_count": 3,
   "metadata": {
    "ExecuteTime": {
     "end_time": "2023-12-04T08:59:02.372511600Z",
     "start_time": "2023-12-04T08:56:18.077719400Z"
    },
    "collapsed": false,
    "jupyter": {
     "outputs_hidden": false
    }
   },
   "outputs": [
    {
     "data": {
      "application/vnd.jupyter.widget-view+json": {
       "model_id": "1f4807df590d46f1a535e70a427a1094",
       "version_major": 2,
       "version_minor": 0
      },
      "text/plain": [
       "  0%|          | 0/821 [00:00<?, ?it/s]"
      ]
     },
     "metadata": {},
     "output_type": "display_data"
    },
    {
     "name": "stdout",
     "output_type": "stream",
     "text": [
      "Creating a lesion matrix with the following dimensions: (821, 152, 179, 142)\n"
     ]
    },
    {
     "data": {
      "application/vnd.jupyter.widget-view+json": {
       "model_id": "dd995a8f4870439f99b500b046b38a7a",
       "version_major": 2,
       "version_minor": 0
      },
      "text/plain": [
       "  0%|          | 0/821 [00:00<?, ?it/s]"
      ]
     },
     "metadata": {},
     "output_type": "display_data"
    }
   ],
   "source": [
    "# Set simulation parameters\n",
    "roi_weights = [1,1,1]\n",
    "roi_size = 5 # Diameter of a single ROI dimension [mm]\n",
    "roi_threshold = 10\n",
    "roi_origins = [[94, 112, 94], [106, 90, 45], [105, 116, 90]]\n",
    "\n",
    "# Get ROI, lesion matrix and patients ids\n",
    "roi_array = sitk.GetArrayFromImage(sitk.ReadImage(os.path.join('images/','roi_image_0.nii.gz')))\n",
    "patient_ids = prepare_data.get_ids(dir_downsized_path)\n",
    "lesion_matrix = prepare_data.lesion_matrix(patient_ids, dir_downsized_path) # Lesion matrix is ordered the same as included_pts\n",
    "# lesion_matrix, mask_indices, prevalence_mask = prepare_data.pt_threshold(lesion_matrix, threshold=10)"
   ]
  },
  {
   "cell_type": "code",
   "execution_count": 5,
   "metadata": {
    "ExecuteTime": {
     "end_time": "2023-11-13T11:42:38.535552900Z",
     "start_time": "2023-11-13T11:42:34.465203700Z"
    },
    "collapsed": true,
    "jupyter": {
     "outputs_hidden": true
    }
   },
   "outputs": [
    {
     "name": "stdout",
     "output_type": "stream",
     "text": [
      "/user/ana/S_Source/Simulation3D/images/lesion_mask.nii.gz\n",
      "Saved lesion mask image\n",
      "ROI origins: [94, 112, 94], [106, 90, 45], [105, 116, 90]\n",
      "Saved ROI image\n",
      "Saved ROI image\n",
      "Saved ROI image\n",
      "Saved ROI image\n"
     ]
    },
    {
     "data": {
      "text/plain": [
       "([[94, 112, 94], [106, 90, 45], [105, 116, 90]],\n",
       " array([[[0., 0., 0., ..., 0., 0., 0.],\n",
       "         [0., 0., 0., ..., 0., 0., 0.],\n",
       "         [0., 0., 0., ..., 0., 0., 0.],\n",
       "         ...,\n",
       "         [0., 0., 0., ..., 0., 0., 0.],\n",
       "         [0., 0., 0., ..., 0., 0., 0.],\n",
       "         [0., 0., 0., ..., 0., 0., 0.]],\n",
       " \n",
       "        [[0., 0., 0., ..., 0., 0., 0.],\n",
       "         [0., 0., 0., ..., 0., 0., 0.],\n",
       "         [0., 0., 0., ..., 0., 0., 0.],\n",
       "         ...,\n",
       "         [0., 0., 0., ..., 0., 0., 0.],\n",
       "         [0., 0., 0., ..., 0., 0., 0.],\n",
       "         [0., 0., 0., ..., 0., 0., 0.]],\n",
       " \n",
       "        [[0., 0., 0., ..., 0., 0., 0.],\n",
       "         [0., 0., 0., ..., 0., 0., 0.],\n",
       "         [0., 0., 0., ..., 0., 0., 0.],\n",
       "         ...,\n",
       "         [0., 0., 0., ..., 0., 0., 0.],\n",
       "         [0., 0., 0., ..., 0., 0., 0.],\n",
       "         [0., 0., 0., ..., 0., 0., 0.]],\n",
       " \n",
       "        ...,\n",
       " \n",
       "        [[0., 0., 0., ..., 0., 0., 0.],\n",
       "         [0., 0., 0., ..., 0., 0., 0.],\n",
       "         [0., 0., 0., ..., 0., 0., 0.],\n",
       "         ...,\n",
       "         [0., 0., 0., ..., 0., 0., 0.],\n",
       "         [0., 0., 0., ..., 0., 0., 0.],\n",
       "         [0., 0., 0., ..., 0., 0., 0.]],\n",
       " \n",
       "        [[0., 0., 0., ..., 0., 0., 0.],\n",
       "         [0., 0., 0., ..., 0., 0., 0.],\n",
       "         [0., 0., 0., ..., 0., 0., 0.],\n",
       "         ...,\n",
       "         [0., 0., 0., ..., 0., 0., 0.],\n",
       "         [0., 0., 0., ..., 0., 0., 0.],\n",
       "         [0., 0., 0., ..., 0., 0., 0.]],\n",
       " \n",
       "        [[0., 0., 0., ..., 0., 0., 0.],\n",
       "         [0., 0., 0., ..., 0., 0., 0.],\n",
       "         [0., 0., 0., ..., 0., 0., 0.],\n",
       "         ...,\n",
       "         [0., 0., 0., ..., 0., 0., 0.],\n",
       "         [0., 0., 0., ..., 0., 0., 0.],\n",
       "         [0., 0., 0., ..., 0., 0., 0.]]]))"
      ]
     },
     "execution_count": 5,
     "metadata": {},
     "output_type": "execute_result"
    }
   ],
   "source": [
    "#Get ROI images\n",
    "simulation.get_rois(lesion_matrix, roi_threshold, roi_size, None)"
   ]
  },
  {
   "cell_type": "code",
   "execution_count": 5,
   "metadata": {},
   "outputs": [
    {
     "name": "stdout",
     "output_type": "stream",
     "text": [
      "Patient  20004\n"
     ]
    },
    {
     "data": {
      "image/png": "[encoded data removed]",
      "text/plain": [
       "<Figure size 432x288 with 1 Axes>"
      ]
     },
     "metadata": {
      "needs_background": "light"
     },
     "output_type": "display_data"
    }
   ],
   "source": [
    "# Quick visualiztion check\n",
    "print('Patient ', patient_ids[1])\n",
    "plt.imshow(lesion_matrix[1, 105, :, :], cmap='tab20b', vmin=0, vmax=3)\n",
    "plt.show()"
   ]
  },
  {
   "cell_type": "markdown",
   "metadata": {},
   "source": [
    "# Proof of concept"
   ]
  },
  {
   "cell_type": "code",
   "execution_count": 5,
   "metadata": {
    "ExecuteTime": {
     "end_time": "2023-12-04T08:59:10.385224300Z",
     "start_time": "2023-12-04T08:59:02.376510200Z"
    },
    "collapsed": false,
    "jupyter": {
     "outputs_hidden": false
    }
   },
   "outputs": [
    {
     "name": "stdout",
     "output_type": "stream",
     "text": [
      "One-output scores: (1, 821)\n",
      "Multi-output scores: (821, 3)\n"
     ]
    }
   ],
   "source": [
    "# Determine Proof-of-concept artificial cognitive scores\n",
    "scores_oo, scores_mo, _ = simulation.get_scores(lesion_matrix, roi_origins, roi_threshold, roi_weights, roi_size)\n",
    "\n",
    "print('One-output scores:', scores_oo.shape)\n",
    "print('Multi-output scores:', scores_mo.shape)"
   ]
  },
  {
   "cell_type": "code",
   "execution_count": 6,
   "metadata": {
    "ExecuteTime": {
     "end_time": "2023-12-04T09:01:06.666072600Z",
     "start_time": "2023-12-04T08:59:10.390225300Z"
    },
    "collapsed": false,
    "jupyter": {
     "outputs_hidden": false
    }
   },
   "outputs": [],
   "source": [
    "### Save data into local files\n",
    "# one-output\n",
    "doo = {'Patient': patient_ids, 'Score': scores_oo[0,:]}\n",
    "df_oo = pd.DataFrame(data = doo)\n",
    "oo_results_path = 'experiments/one_output_3D'\n",
    "#simulation.save_simulation_data(df_oo, lesion_matrix, roi_origins, oo_results_path)\n",
    "\n",
    "# multi-output\n",
    "dmo = {'Patient': patient_ids, 'Score 1': scores_mo[:,0], 'Score 2': scores_mo[:,1],'Score 3': scores_mo[:,2]}\n",
    "df_mo = pd.DataFrame(data = dmo)\n",
    "mo_results_path = 'experiments/multi_output_3D'\n",
    "#simulation.save_simulation_data(df_mo, lesion_matrix, roi_origins, mo_results_path)"
   ]
  },
  {
   "cell_type": "markdown",
   "metadata": {},
   "source": [
    "### Visualize"
   ]
  },
  {
   "cell_type": "code",
   "execution_count": 7,
   "metadata": {},
   "outputs": [
    {
     "data": {
      "image/png": "[encoded data removed]",
      "text/plain": [
       "<Figure size 432x288 with 1 Axes>"
      ]
     },
     "metadata": {
      "needs_background": "light"
     },
     "output_type": "display_data"
    }
   ],
   "source": [
    "# HISTOGRAM\n",
    "data = list(df_oo['Score'])\n",
    "# fixed bin size\n",
    "bins = 50  # fixed bin size\n",
    "plt.hist(data, bins=bins, alpha=0.5)\n",
    "plt.title('Distribution of GT artificial scores')\n",
    "plt.xlabel('Score')\n",
    "plt.ylabel('count')\n",
    "plt.show()"
   ]
  },
  {
   "cell_type": "code",
   "execution_count": 13,
   "metadata": {
    "ExecuteTime": {
     "end_time": "2023-09-27T13:17:27.010576500Z",
     "start_time": "2023-09-27T13:17:26.926229700Z"
    },
    "collapsed": false,
    "jupyter": {
     "outputs_hidden": false
    }
   },
   "outputs": [
    {
     "name": "stdout",
     "output_type": "stream",
     "text": [
      "1 patients have a score of 1\n",
      "170 patients have a score of 0\n",
      "0 patients have negative scores\n"
     ]
    }
   ],
   "source": [
    "count = (df_oo['Score'] == 1).sum()\n",
    "print(count, 'patients have a score of 1')\n",
    "\n",
    "count = (df_oo['Score'] == 0).sum()\n",
    "print(count, 'patients have a score of 0')\n",
    "\n",
    "count = (df_oo['Score'] < 0).sum()\n",
    "print(count, 'patients have negative scores')"
   ]
  },
  {
   "cell_type": "code",
   "execution_count": 14,
   "metadata": {},
   "outputs": [
    {
     "data": {
      "text/plain": [
       "Text(0, 0.5, 'Count')"
      ]
     },
     "execution_count": 14,
     "metadata": {},
     "output_type": "execute_result"
    },
    {
     "data": {
      "image/png": "[encoded data removed]",
      "text/plain": [
       "<Figure size 1440x720 with 3 Axes>"
      ]
     },
     "metadata": {
      "needs_background": "light"
     },
     "output_type": "display_data"
    }
   ],
   "source": [
    "# Multi-output\n",
    "fig, axs = plt.subplots(1, 3, figsize=(20, 10))\n",
    "\n",
    "# Separate the sublists into two lists\n",
    "s1 = list(df_mo['Score 1'])\n",
    "s2 = list(df_mo['Score 2'])\n",
    "s3 = list(df_mo['Score 3'])\n",
    "\n",
    "# Plot the first histogram in the top-left position\n",
    "axs[0].hist(s1, alpha=0.5)\n",
    "axs[0].set_title('Distribution of Score 1')\n",
    "axs[0].set_xlabel('Score 1')\n",
    "axs[0].set_ylabel('Count')\n",
    "\n",
    "# Plot the second histogram in the top-right position\n",
    "axs[1].hist(s2, alpha=0.5)\n",
    "axs[1].set_title('Distribution of Score 2')\n",
    "axs[1].set_xlabel('Score 2')\n",
    "axs[1].set_ylabel('Count')\n",
    "\n",
    "# Plot the second histogram in the top-right position\n",
    "axs[2].hist(s3, alpha=0.5)\n",
    "axs[2].set_title('Distribution of Score 3')\n",
    "axs[2].set_xlabel('Score 3')\n",
    "axs[2].set_ylabel('Count')"
   ]
  },
  {
   "cell_type": "markdown",
   "metadata": {
    "ExecuteTime": {
     "end_time": "2023-07-27T07:46:44.570930400Z",
     "start_time": "2023-07-27T07:46:44.279317100Z"
    }
   },
   "source": [
    "# Noise Experiment"
   ]
  },
  {
   "cell_type": "code",
   "execution_count": 8,
   "metadata": {
    "ExecuteTime": {
     "end_time": "2023-09-27T13:23:24.066567Z",
     "start_time": "2023-09-27T13:23:15.755025100Z"
    },
    "collapsed": false,
    "jupyter": {
     "outputs_hidden": false
    }
   },
   "outputs": [
    {
     "name": "stdout",
     "output_type": "stream",
     "text": [
      "One-output scores: (1, 821)\n",
      "Multi-output scores: (821, 3)\n"
     ]
    }
   ],
   "source": [
    "# Determine Noise artificial cognition scores\n",
    "noise_strength = 0.5 # Change eery time to the noise weight you want to obtain 0.4,0.3,0.2,0.1\n",
    "noise = \"gaussian\"\n",
    "noisy_scores_oo, noisy_scores_mo, _ = simulation.get_scores(lesion_matrix, roi_origins, roi_threshold, roi_weights, roi_size, noise=True, error_weight=noise_strength, noise_type=noise)\n",
    "\n",
    "print('One-output scores:',noisy_scores_oo.shape)\n",
    "print('Multi-output scores:',noisy_scores_mo.shape)"
   ]
  },
  {
   "cell_type": "code",
   "execution_count": 9,
   "metadata": {
    "ExecuteTime": {
     "end_time": "2023-09-27T13:23:24.085810Z",
     "start_time": "2023-09-27T13:23:24.067569500Z"
    },
    "collapsed": false,
    "jupyter": {
     "outputs_hidden": false
    }
   },
   "outputs": [],
   "source": [
    "# Normalize scores to be in range 0 (no lesion) 1 (lesion)\n",
    "noisy_scores_oo_norm = simulation.normalize_oo_noisy_scores(noisy_scores_oo)\n",
    "noisy_scores_mo_norm = simulation.normalize_mo_noisy_scores(noisy_scores_mo)"
   ]
  },
  {
   "cell_type": "code",
   "execution_count": 10,
   "metadata": {
    "ExecuteTime": {
     "end_time": "2023-09-27T13:23:24.160143600Z",
     "start_time": "2023-09-27T13:23:24.084811300Z"
    },
    "collapsed": false,
    "jupyter": {
     "outputs_hidden": false
    }
   },
   "outputs": [],
   "source": [
    "### Save data into local files\n",
    "# one-output\n",
    "doo = {'Patient': patient_ids, 'Score': noisy_scores_oo[0,:]}\n",
    "df_oo = pd.DataFrame(data = doo)\n",
    "oo_results_path = os.path.join(\"experiments/one_output_3D/noise/\"+ noise + \"/\" + str(noise_strength))\n",
    "# simulation.save_simulation_data(df_oo, lesion_matrix, roi_origins, oo_results_path, False, True)"
   ]
  },
  {
   "cell_type": "code",
   "execution_count": 11,
   "metadata": {
    "ExecuteTime": {
     "end_time": "2023-09-27T13:23:52.985813800Z",
     "start_time": "2023-09-27T13:23:24.130445900Z"
    },
    "collapsed": false,
    "jupyter": {
     "outputs_hidden": false
    }
   },
   "outputs": [],
   "source": [
    "# multi-output\n",
    "dmo = {'Patient': patient_ids, 'Score 1': noisy_scores_mo[:,0], 'Score 2': noisy_scores_mo[:,1], 'Score 3': noisy_scores_mo[:,2]}\n",
    "df_mo = pd.DataFrame(data = dmo)\n",
    "mo_results_path =  os.path.join(\"experiments/multi_output_3D/noise/\"+ noise + \"/\" + str(noise_strength))\n",
    "# simulation.save_simulation_data(df_mo, lesion_matrix, roi_origins, mo_results_path, False, True)"
   ]
  },
  {
   "cell_type": "code",
   "execution_count": 12,
   "metadata": {
    "ExecuteTime": {
     "end_time": "2023-09-27T13:23:53.017072Z",
     "start_time": "2023-09-27T13:23:52.985813800Z"
    },
    "collapsed": false,
    "jupyter": {
     "outputs_hidden": false
    }
   },
   "outputs": [],
   "source": [
    "### Save norm data into local files\n",
    "# one-output\n",
    "doo_n = {'Patient': patient_ids, 'Score': noisy_scores_oo_norm[0,:]}\n",
    "df_oo_n = pd.DataFrame(data = doo_n)\n",
    "df_oo_n.to_pickle(os.path.join(oo_results_path, \"ds_simulation_scores_norm.pkl\"))\n",
    "# multi-output\n",
    "dmo_n = {'Patient': patient_ids, 'Score 1': noisy_scores_mo_norm[:,0], 'Score 2': noisy_scores_mo_norm[:,1], 'Score 3': noisy_scores_mo_norm[:,2]}\n",
    "df_mo_n = pd.DataFrame(data = dmo_n)\n",
    "df_mo_n.to_pickle(os.path.join(mo_results_path, \"ds_simulation_scores_norm.pkl\"))"
   ]
  },
  {
   "cell_type": "markdown",
   "metadata": {},
   "source": [
    "### Visualize"
   ]
  },
  {
   "cell_type": "code",
   "execution_count": 13,
   "metadata": {
    "ExecuteTime": {
     "end_time": "2023-09-27T13:23:53.587040800Z",
     "start_time": "2023-09-27T13:23:53.032684200Z"
    },
    "collapsed": false,
    "jupyter": {
     "outputs_hidden": false
    }
   },
   "outputs": [
    {
     "data": {
      "image/png": "[encoded data removed]",
      "text/plain": [
       "<Figure size 864x360 with 2 Axes>"
      ]
     },
     "metadata": {
      "needs_background": "light"
     },
     "output_type": "display_data"
    }
   ],
   "source": [
    "# Histogram for one_score\n",
    "data = list(doo['Score'])\n",
    "data2 = list(doo_n['Score'])\n",
    "\n",
    "bins = 50\n",
    "plt.figure(figsize=(12, 5))\n",
    "plt.subplot(1, 2, 1)  # 1 row, 2 columns, subplot 1\n",
    "plt.hist(data, bins=bins, alpha=0.5)\n",
    "plt.title('Artificial Scores Distribution')\n",
    "plt.xlabel('Score')\n",
    "plt.ylabel('count')\n",
    "\n",
    "# Histogram for multi_score (first column)\n",
    "plt.subplot(1, 2, 2)  # 1 row, 2 columns, subplot 2\n",
    "plt.hist(data2, bins=bins, alpha=0.5)\n",
    "plt.title('Normalized Artificial Scores Distribution')\n",
    "plt.xlabel('Score')\n",
    "plt.ylabel('count')\n",
    "\n",
    "# Adjust layout and display the plot\n",
    "plt.tight_layout()\n",
    "plt.show()"
   ]
  },
  {
   "cell_type": "code",
   "execution_count": 51,
   "metadata": {
    "ExecuteTime": {
     "end_time": "2023-09-27T13:23:55.041269500Z",
     "start_time": "2023-09-27T13:23:53.602661Z"
    },
    "collapsed": false,
    "jupyter": {
     "outputs_hidden": false
    }
   },
   "outputs": [
    {
     "data": {
      "image/png": "[encoded data removed]",
      "text/plain": [
       "<Figure size 1440x720 with 6 Axes>"
      ]
     },
     "metadata": {
      "needs_background": "light"
     },
     "output_type": "display_data"
    }
   ],
   "source": [
    "# Create subplots with 2 rows and 3 columns\n",
    "fig1, axs = plt.subplots(2, 3, figsize=(20, 10))\n",
    "\n",
    "# Separate the sublists into two lists\n",
    "s1 = list(df_mo['Score 1'])\n",
    "s2 = list(df_mo['Score 2'])\n",
    "s3 = list(df_mo['Score 3'])\n",
    "\n",
    "s1_norm = list(df_mo_n['Score 1'])\n",
    "s2_norm = list(df_mo_n['Score 2'])\n",
    "s3_norm = list(df_mo_n['Score 3'])\n",
    "\n",
    "# Plot the first histogram in the top-left position\n",
    "axs[0, 0].hist(s1, alpha=0.5)\n",
    "axs[0, 0].set_title('Distribution of Noise Score 1')\n",
    "axs[0, 0].set_xlabel('Score 1')\n",
    "axs[0, 0].set_ylabel('Count')\n",
    "\n",
    "# Plot the second histogram in the top-right position\n",
    "axs[0, 1].hist(s2, alpha=0.5)\n",
    "axs[0, 1].set_title('Distribution of Noise Score 2')\n",
    "axs[0, 1].set_xlabel('Score 2')\n",
    "axs[0, 1].set_ylabel('Count')\n",
    "\n",
    "# Plot the second histogram in the top-right position\n",
    "axs[0, 2].hist(s3, alpha=0.5)\n",
    "axs[0, 2].set_title('Distribution of Noise Score 3')\n",
    "axs[0, 2].set_xlabel('Score 3')\n",
    "axs[0, 2].set_ylabel('Count')\n",
    "\n",
    "# Plot the third histogram in the bottom-left position\n",
    "axs[1, 0].hist(s1_norm, alpha=0.5)\n",
    "axs[1, 0].set_title('Distribution of Norm Noise Score 1')\n",
    "axs[1, 0].set_xlabel('Score 1')\n",
    "axs[1, 0].set_ylabel('Count')\n",
    "\n",
    "# Plot the fourth histogram in the bottom-right position\n",
    "axs[1, 1].hist(s2_norm, alpha=0.5)\n",
    "axs[1, 1].set_title('Distribution of Norm Noise Score 2')\n",
    "axs[1, 1].set_xlabel('Score 2')\n",
    "axs[1, 1].set_ylabel('Count')\n",
    "\n",
    "# Plot the fourth histogram in the bottom-right position\n",
    "axs[1, 2].hist(s3_norm, alpha=0.5)\n",
    "axs[1, 2].set_title('Distribution of Norm Noise Score 3')\n",
    "axs[1, 2].set_xlabel('Score 3')\n",
    "axs[1, 2].set_ylabel('Count')\n",
    "# Adjust the spacing between subplots\n",
    "plt.tight_layout()\n",
    "\n",
    "# Display the plot\n",
    "plt.show()\n"
   ]
  },
  {
   "cell_type": "markdown",
   "metadata": {},
   "source": [
    "# Intercorrelation experiment"
   ]
  },
  {
   "cell_type": "code",
   "execution_count": 11,
   "metadata": {},
   "outputs": [
    {
     "name": "stdout",
     "output_type": "stream",
     "text": [
      "Multi-output scores: (821, 3)\n"
     ]
    }
   ],
   "source": [
    "# Dependency of a weight on main ROI\n",
    "weight = 0.9 # change for different dataset simulations: 0.8,0.7,0.6\n",
    "_, _, scores_ic = simulation.get_scores(lesion_matrix, roi_origins, roi_threshold, roi_weights, roi_size, a=weight, b=weight)\n",
    "\n",
    "print('Multi-output scores:', scores_ic.shape)"
   ]
  },
  {
   "cell_type": "code",
   "execution_count": 12,
   "metadata": {},
   "outputs": [],
   "source": [
    "# intercorrelated multi-output\n",
    "dmoic = {'Patient': patient_ids, 'Score 1': scores_ic[:,0], 'Score 2': scores_ic[:,1],'Score 3': scores_ic[:,2]}\n",
    "df_mo_ic = pd.DataFrame(data = dmoic)\n",
    "mo_ic_results_path = os.path.join(\"experiments/ic_multi_output_3D/scores/\"+ str(weight))\n",
    "\n",
    "simulation.save_simulation_data(df_mo_ic, lesion_matrix, roi_origins, mo_ic_results_path)"
   ]
  },
  {
   "cell_type": "code",
   "execution_count": 8,
   "metadata": {
    "ExecuteTime": {
     "end_time": "2023-12-04T09:01:07.850958300Z",
     "start_time": "2023-12-04T09:01:06.668075Z"
    }
   },
   "outputs": [
    {
     "data": {
      "text/plain": [
       "Text(0, 0.5, 'Count')"
      ]
     },
     "execution_count": 8,
     "metadata": {},
     "output_type": "execute_result"
    },
    {
     "data": {
      "image/png": "[encoded data removed]",
      "text/plain": [
       "<Figure size 1440x720 with 3 Axes>"
      ]
     },
     "metadata": {
      "needs_background": "light"
     },
     "output_type": "display_data"
    }
   ],
   "source": [
    "# Intercorrelated\n",
    "fig, axs = plt.subplots(1, 3, figsize=(20, 10))\n",
    "\n",
    "# Separate the sublists into two lists\n",
    "s1 = list(df_mo_ic['Score 1'])\n",
    "s2 = list(df_mo_ic['Score 2'])\n",
    "s3 = list(df_mo_ic['Score 3'])\n",
    "\n",
    "# Plot the first histogram in the top-left position\n",
    "axs[0].hist(s1, alpha=0.5)\n",
    "axs[0].set_title('Distribution of Score 1')\n",
    "axs[0].set_xlabel('Score 1')\n",
    "axs[0].set_ylabel('Count')\n",
    "\n",
    "# Plot the second histogram in the top-right position\n",
    "axs[1].hist(s2, alpha=0.5)\n",
    "axs[1].set_title('Distribution of Score 2')\n",
    "axs[1].set_xlabel('Score 2')\n",
    "axs[1].set_ylabel('Count')\n",
    "\n",
    "# Plot the second histogram in the top-right position\n",
    "axs[2].hist(s3, alpha=0.5)\n",
    "axs[2].set_title('Distribution of Score 3')\n",
    "axs[2].set_xlabel('Score 3')\n",
    "axs[2].set_ylabel('Count')"
   ]
  }
 ],
 "metadata": {
  "kernelspec": {
   "display_name": "Python 3",
   "language": "python",
   "name": "python3"
  },
  "language_info": {
   "codemirror_mode": {
    "name": "ipython",
    "version": 3
   },
   "file_extension": ".py",
   "mimetype": "text/x-python",
   "name": "python",
   "nbconvert_exporter": "python",
   "pygments_lexer": "ipython3",
   "version": "3.8.5"
  }
 },
 "nbformat": 4,
 "nbformat_minor": 4
}
